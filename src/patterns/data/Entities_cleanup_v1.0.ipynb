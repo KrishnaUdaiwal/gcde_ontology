{
 "cells": [
  {
   "cell_type": "code",
   "execution_count": 89,
   "metadata": {},
   "outputs": [],
   "source": [
    "# Import data from Excel file\n",
    "import pandas as pd\n",
    "\n",
    "data = pd.read_excel('Entities Summary View_v1.xlsx', sheet_name='Entities Summary View', na_values=['NaN'])"
   ]
  },
  {
   "cell_type": "code",
   "execution_count": 1,
   "metadata": {},
   "outputs": [],
   "source": [
    "# Import data from Airtable API\n",
    "import configparser\n",
    "import os\n",
    "from pyairtable import Api\n",
    "\n",
    "config = configparser.ConfigParser()\n",
    "config.read(\"config.ini\")\n",
    "os.environ[\"AIRTABLE_API_KEY\"] = config['krishna.udaiwal@cra-arc.gc.ca']['PAT']\n",
    "base_id = config['airtable']['base_id']\n",
    "table_name = config['airtable']['table_name']\n",
    "\n",
    "api = Api(os.environ.get(\"AIRTABLE_API_KEY\"))\n",
    "table = api.table(base_id, table_name)\n",
    "airtable_data = table.all()"
   ]
  },
  {
   "cell_type": "code",
   "execution_count": 10,
   "metadata": {},
   "outputs": [],
   "source": [
    "table_cols = ['ID', 'Label', 'Connections - Entity From', 'Entity Short Form', \n",
    "              'Tags', 'Type', 'SubType', 'Description', 'OrgClass', 'OrgSubType', \n",
    "              'Portfolio', 'URL', 'Source of Entry', 'Admin Notes', 'Data Provider', \n",
    "              'Record Status', 'Last Modified By', 'Created', \n",
    "              'French Entity Full Name', 'French Short Form', 'French Description', 'French URL']"
   ]
  },
  {
   "cell_type": "code",
   "execution_count": 16,
   "metadata": {},
   "outputs": [
    {
     "data": {
      "text/plain": [
       "{'Label': \"Canada's Free Agents\",\n",
       " 'Type': ['rec1Ya3F8O9BtZZ1p'],\n",
       " 'URL': 'https://wiki.gccollab.ca/Canada%27s_Free_Agents',\n",
       " 'ID': 4730,\n",
       " 'Tags': ['recTe4iB8nfwsZMmz'],\n",
       " 'Connections - Entity To': ['recWSkrT1GkPvdYsg',\n",
       "  'reccNyFnPwkOLPDTY',\n",
       "  'recX6eUS7l6yuuvix',\n",
       "  'recU62eJZLU8Hvg0T'],\n",
       " 'French Entity Full Name': 'Agents libres du Canada',\n",
       " 'French Description': \"Ce programme, lancé en 2016, est un nouveau modèle de mobilisation de la main-d'œuvre. Il offre aux fonctionnaires la liberté de sélectionner un travail qui correspond à leurs compétences et à leurs intérêts, tout en leur permettant d’apporter une contribution qu'ils trouvent significative. Il permet aux gestionnaires de recourir rapidement et facilement aux meilleurs talents à l’affût des compétences émergentes et essentielles afin de répondre aux besoins à court terme de leur projet. Les Agents libres sont sélectionnés en fonction de leurs attributs utiles à la résolution de problèmes et des compétences qui sont en demande. Réimaginez la mobilité avec nous!\",\n",
       " 'OrgClass': ['rec49oxEU4GOmEFuX'],\n",
       " 'Description': 'Launched in 2016, the program is a new model for workforce mobilization. It offers public servants the freedom to select work that matches their skills and interests and allows them to make a contribution that they find meaningful. It also supports managers looking to rapidly and easily acquire top talent with emerging and core skills in order to support their short-term project needs. Free Agents are screened for attributes that are beneficial for solving problems and skills that are in demand.',\n",
       " 'SubType': ['rec6PcQsGiYcOPWvJ'],\n",
       " 'French URL': 'https://wiki.gccollab.ca/Agents_libres_du_Canada',\n",
       " 'Record Status': ['rec6qBSyEHvLCBIrD'],\n",
       " 'DigitalTalentSize': 1,\n",
       " 'Created': '2022-03-24',\n",
       " 'Last Modified By': {'id': 'usrHLHKEdNe5CNDwn',\n",
       "  'email': 'kearnet@gmail.com',\n",
       "  'name': 'Thom Kearney'},\n",
       " 'Last Modified': '2023-03-20T11:32:29.000Z',\n",
       " 'To ID': [5281, 5299, 5300, 5301],\n",
       " 'Count (Connections - Entity From)': 4,\n",
       " 'Count (Connections - Entity To)': 0,\n",
       " 'Count of Links': 4,\n",
       " 'EntityToType (from Connections - Entity To)': ['rec1Ya3F8O9BtZZ1p',\n",
       "  'rec1Ya3F8O9BtZZ1p',\n",
       "  'rec1Ya3F8O9BtZZ1p',\n",
       "  'rec1Ya3F8O9BtZZ1p'],\n",
       " 'Entity Type FR (from Type)': ['Programmes  / Services'],\n",
       " 'Entity sub-type FR (from SubType)': ['Programmes'],\n",
       " 'Entity To Tags (from Connections - Entity To)': ['recTe4iB8nfwsZMmz',\n",
       "  'recTe4iB8nfwsZMmz',\n",
       "  'recTe4iB8nfwsZMmz',\n",
       "  'recTe4iB8nfwsZMmz'],\n",
       " 'Count (Tags)': 1,\n",
       " 'Entity From (from Connections - Entity To)': ['recNB9yhQmN4fZGmR',\n",
       "  'recqrGd4RCugD4HHR',\n",
       "  'rectQWISfyF4rBRJJ',\n",
       "  'rec5QXHIMNSsUYV6Y'],\n",
       " 'ID Text': 4730,\n",
       " 'Entity Type Eng (from Type)': ['Programs and Services'],\n",
       " 'Entity sub-type (from SubType)': ['Programs'],\n",
       " 'Name (from OrgClass)': ['GC Interdepartmental'],\n",
       " 'Name (from Tags)': ['DataTalent'],\n",
       " 'Created By': {'id': 'usr2FSoiF8UuEPQnk',\n",
       "  'email': 'gcdc-cdgc@csps-efpc.gc.ca',\n",
       "  'name': 'GC Data Community'}}"
      ]
     },
     "execution_count": 16,
     "metadata": {},
     "output_type": "execute_result"
    }
   ],
   "source": [
    "airtable_data[0]['fields']"
   ]
  },
  {
   "cell_type": "code",
   "execution_count": null,
   "metadata": {},
   "outputs": [],
   "source": [
    "data_view = data[table_cols]\n",
    "data_view = data_view.rename(columns={\"Label\": \"defined_class_label\",\n",
    "                                        \"ID\":\"defined_class\",\n",
    "                                        \"Connections - Entity From\": \"parent_class\",\n",
    "                                        \"Description\": \"definition\",\n",
    "                                        \"URL\": \"definition_source\"})\n",
    "#df.rename(columns={\"A\": \"a\", \"B\": \"c\"})"
   ]
  },
  {
   "cell_type": "code",
   "execution_count": 90,
   "metadata": {},
   "outputs": [
    {
     "name": "stdout",
     "output_type": "stream",
     "text": [
      "\n",
      "+-:()_ /'–$’&!“”‘é;—•®ﬂÉ‑\"|àè°\t?â€™=£·#~±%@[]…\\\n",
      "Test:\n",
      "0        a™\n",
      "1    édf\\nd\n",
      "2      c   \n",
      "dtype: object\n",
      "0       a\n",
      "1    df d\n",
      "2       c\n",
      "dtype: object\n"
     ]
    },
    {
     "name": "stderr",
     "output_type": "stream",
     "text": [
      "/tmp/ipykernel_1761218/734732074.py:1: FutureWarning: The default value of regex will change from True to False in a future version.\n",
      "  desc = data['Description'].str.replace('[a-zA-Z0-9 .,]', '')[data['Description'].str.replace('[a-zA-Z0-9 .,]', '').notna()]\n"
     ]
    }
   ],
   "source": [
    "# Clean up text data from columns\n",
    "\n",
    "data['ID'] = \"GCDE:\"+data['ID'].astype(str).str.zfill(7)            # Add GCDE prefix and pad with zeros\n",
    "desc = data['Description'].str.replace('[a-zA-Z0-9 .,]', '')[data['Description'].str.replace('[a-zA-Z0-9 .,]', '').notna()]\n",
    "spec_chars = \"\"\n",
    "for i in desc:\n",
    "    if i == \"\":\n",
    "        continue\n",
    "#    print(i)\n",
    "    for j in i:\n",
    "        if j not in spec_chars:\n",
    "            spec_chars += j\n",
    "\n",
    "print(spec_chars)\n",
    "\n",
    "#TODO Use above to create a list of special characters to remove, except for the ones we want to keep\n",
    "# only allow alphanumeric characters, special characters: .,() and space\n",
    "# '+-:()/\\'–$&!;‑\"|°?€=£·#~±%@[]'\n",
    "\n",
    "# https://stackoverflow.com/questions/1276764/stripping-everything-but-alphanumeric-chars-from-a-string-in-python/1280823#1280823\n",
    "delchars = ''.join(spec_chars for c in map(chr, range(256)) if not c.isalnum() and c not in ' .,+-:()/\\'–$&!;‑\"|°?€=£·#~±%@[]')\n",
    "del_map = str.maketrans('', '', delchars)\n",
    "\n",
    "def remove_special_characters(text):\n",
    "    return text.translate(del_map)\n",
    "\n",
    "# Remove new lines, leading and trailing whitespaces, and special characters\n",
    "def fix_text(text):\n",
    "    return text.str.replace('\\n', ' ').apply(lambda x: remove_special_characters(x.strip()) if isinstance(x, str) else x) \n",
    "\n",
    "# Test\n",
    "a = pd.Series(['a™', 'édf\\nd', ' c   '])\n",
    "print(\"Test:\", a, a.str.replace('\\n', ' ').apply(lambda x: remove_special_characters(x.strip()) if isinstance(x, str) else x), sep='\\n')"
   ]
  },
  {
   "cell_type": "code",
   "execution_count": 91,
   "metadata": {},
   "outputs": [],
   "source": [
    "data['Description'] = fix_text(data['Description'])\n",
    "data['French Description'] = fix_text(data['French Description'])\n",
    "data['Admin Notes'] = fix_text(data['Admin Notes'])"
   ]
  },
  {
   "cell_type": "code",
   "execution_count": 92,
   "metadata": {},
   "outputs": [
    {
     "data": {
      "text/plain": [
       "0    GCDE:0000001\n",
       "1    GCDE:0000002\n",
       "2    GCDE:0000003\n",
       "dtype: object"
      ]
     },
     "execution_count": 92,
     "metadata": {},
     "output_type": "execute_result"
    }
   ],
   "source": [
    "def add_prefix(x):\n",
    "    # takes lists: splits, pads with zeros, and adds GCDE prefix, then joins\n",
    "    # takes strings: pads with zeros, and adds GCDE prefix\n",
    "    if isinstance(x, list):\n",
    "        return \",\".join([\"GCDE:\"+i.astype(str).str.zfill(7) for i in x])\n",
    "    return \"GCDE:\"+x.astype(str).str.zfill(7)\n",
    "add_prefix(pd.Series([1,2,3]))"
   ]
  },
  {
   "cell_type": "code",
   "execution_count": 93,
   "metadata": {},
   "outputs": [
    {
     "name": "stdout",
     "output_type": "stream",
     "text": [
      "{GCDE:0000001;GCDE:0000032;GCDE:0000003}\n"
     ]
    },
    {
     "data": {
      "text/plain": [
       "'GCDE:0000001'"
      ]
     },
     "execution_count": 93,
     "metadata": {},
     "output_type": "execute_result"
    }
   ],
   "source": [
    "def add_prefix(x):\n",
    "    # takes lists: splits, pads with zeros, and adds GCDE prefix, then joins\n",
    "    # takes strings: pads with zeros, and adds GCDE prefix\n",
    "    if isinstance(x, (str, list)):\n",
    "        #print(\"recogized as list\")  6000\n",
    "        y = \"\"\n",
    "        #print(type(x), str(*x).split(\",\"), \"note3\")\n",
    "        for i in str(*x).split(\", \"):\n",
    "            y = y+\";\"+(\"GCDE:\"+i.zfill(7))\n",
    "#            print(type(i), y, \"Note2\")\n",
    "        return \"{\"+y[1:]+\"}\"\n",
    "#        print(\",\".join([\"GCDE:\"+i.zfill(7) for i in x]))\n",
    "#        return \"{\"+\",\".join([\"GCDE:\"+i.zfill(7) for i in x])+ \"}\"\n",
    "    return \"GCDE:\"+str(x).zfill(7)\n",
    "\n",
    "# Test multiple values\n",
    "print(add_prefix([\"1, 32, 3\"]))\n",
    "add_prefix(1)"
   ]
  },
  {
   "cell_type": "code",
   "execution_count": 94,
   "metadata": {},
   "outputs": [
    {
     "name": "stdout",
     "output_type": "stream",
     "text": [
      "1623\n"
     ]
    }
   ],
   "source": [
    "# Update parent class to include GCDE prefix\n",
    "# Split with GCDE prefixes\n",
    "\n",
    "connections = []\n",
    "for i in data['Connections - Entity From']:\n",
    "    if isinstance(i, float):\n",
    "        connections += [i]\n",
    "    else:\n",
    "        #print(type(i), i, \"note1\")\n",
    "        connections += [add_prefix([i])]\n",
    "    \n",
    "data['Connections - Entity From'] = connections\n",
    "#[\"GCDE:\"+x.astype(str).str.zfill(7) for x in data['Connections - Entity From'].str.split(',') if isinstance(x, list)]"
   ]
  },
  {
   "cell_type": "code",
   "execution_count": 96,
   "metadata": {},
   "outputs": [],
   "source": [
    "data_view.to_csv('/home/agar2/Documents/1Projects/6Projects/GCDE_ontology/gcde_ontology/src/patterns/data/airtable_full.tsv', sep= \"\\t\", index=False)"
   ]
  },
  {
   "cell_type": "markdown",
   "metadata": {},
   "source": [
    "Label ->            defined_class_label\n",
    "ID ->               defined_class\n",
    "Connections - Entity From -> parent_class\n",
    "Entity Short Form\t\n",
    "Tags\t            \n",
    "Type\t            \n",
    "SubType\t\n",
    "Description\t->      definition\n",
    "OrgClass\t\n",
    "OrgSubType\t\n",
    "Portfolio\t\n",
    "URL ->              definition_source\n",
    "Source of Entry\t\n",
    "Admin Notes\t\n",
    "Data Provider\t\n",
    "Record Status\t\n",
    "Last Modified By\t\n",
    "Created\t\n",
    "French Entity Full Name\t\n",
    "French Short Form\t\n",
    "French Description\t\n",
    "French URL\n"
   ]
  },
  {
   "cell_type": "code",
   "execution_count": null,
   "metadata": {},
   "outputs": [],
   "source": []
  }
 ],
 "metadata": {
  "kernelspec": {
   "display_name": "base",
   "language": "python",
   "name": "python3"
  },
  "language_info": {
   "codemirror_mode": {
    "name": "ipython",
    "version": 3
   },
   "file_extension": ".py",
   "mimetype": "text/x-python",
   "name": "python",
   "nbconvert_exporter": "python",
   "pygments_lexer": "ipython3",
   "version": "3.9.18"
  },
  "orig_nbformat": 4
 },
 "nbformat": 4,
 "nbformat_minor": 2
}
