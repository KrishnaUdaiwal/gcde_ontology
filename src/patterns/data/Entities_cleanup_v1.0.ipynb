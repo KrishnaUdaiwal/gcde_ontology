{
 "cells": [
  {
   "cell_type": "code",
   "execution_count": 1,
   "metadata": {},
   "outputs": [],
   "source": [
    "import pandas as pd\n",
    "\n",
    "data = pd.read_excel('Entities Summary View_v1.xlsx', sheet_name='Entities Summary View', na_values=['NaN'])\n",
    "data['ID'] = \"GCDE:\"+data['ID'].astype(str).str.zfill(7)            # Add GCDE prefix and pad with zeros"
   ]
  },
  {
   "cell_type": "code",
   "execution_count": 2,
   "metadata": {},
   "outputs": [
    {
     "name": "stdout",
     "output_type": "stream",
     "text": [
      "\n",
      "+-:()_ /'–$’&!“”‘é;—•®ﬂÉ‑\"|àè°\t?â€™=£·#~±%@[]…\\\n",
      "Test:\n",
      "0        a™\n",
      "1    édf\\nd\n",
      "2      c   \n",
      "dtype: object\n",
      "0       a\n",
      "1    df d\n",
      "2       c\n",
      "dtype: object\n"
     ]
    },
    {
     "name": "stderr",
     "output_type": "stream",
     "text": [
      "/tmp/ipykernel_1761218/734732074.py:1: FutureWarning: The default value of regex will change from True to False in a future version.\n",
      "  desc = data['Description'].str.replace('[a-zA-Z0-9 .,]', '')[data['Description'].str.replace('[a-zA-Z0-9 .,]', '').notna()]\n"
     ]
    }
   ],
   "source": [
    "desc = data['Description'].str.replace('[a-zA-Z0-9 .,]', '')[data['Description'].str.replace('[a-zA-Z0-9 .,]', '').notna()]\n",
    "spec_chars = \"\"\n",
    "for i in desc:\n",
    "    if i == \"\":\n",
    "        continue\n",
    "#    print(i)\n",
    "    for j in i:\n",
    "        if j not in spec_chars:\n",
    "            spec_chars += j\n",
    "\n",
    "print(spec_chars)\n",
    "\n",
    "#TODO Use above to create a list of special characters to remove, except for the ones we want to keep\n",
    "# only allow alphanumeric characters, special characters: .,() and space\n",
    "# '+-:()/\\'–$&!;‑\"|°?€=£·#~±%@[]'\n",
    "\n",
    "# https://stackoverflow.com/questions/1276764/stripping-everything-but-alphanumeric-chars-from-a-string-in-python/1280823#1280823\n",
    "delchars = ''.join(spec_chars for c in map(chr, range(256)) if not c.isalnum() and c not in ' .,+-:()/\\'–$&!;‑\"|°?€=£·#~±%@[]')\n",
    "del_map = str.maketrans('', '', delchars)\n",
    "\n",
    "def remove_special_characters(text):\n",
    "    return text.translate(del_map)\n",
    "\n",
    "# Test\n",
    "a = pd.Series(['a™', 'édf\\nd', ' c   '])\n",
    "print(\"Test:\", a, a.str.replace('\\n', ' ').apply(lambda x: remove_special_characters(x.strip()) if isinstance(x, str) else x), sep='\\n')"
   ]
  },
  {
   "cell_type": "code",
   "execution_count": 3,
   "metadata": {},
   "outputs": [],
   "source": [
    "# Remove new lines, leading and trailing whitespaces, and special characters\n",
    "def fix_text(text):\n",
    "    return text.str.replace('\\n', ' ').apply(lambda x: remove_special_characters(x.strip()) if isinstance(x, str) else x) \n",
    "\n",
    "data['Description'] = fix_text(data['Description'])\n",
    "data['French Description'] = fix_text(data['French Description'])\n",
    "data['Admin Notes'] = fix_text(data['Admin Notes'])\n"
   ]
  },
  {
   "cell_type": "code",
   "execution_count": 4,
   "metadata": {},
   "outputs": [
    {
     "data": {
      "text/plain": [
       "0    GCDE:0000001\n",
       "1    GCDE:0000002\n",
       "2    GCDE:0000003\n",
       "dtype: object"
      ]
     },
     "execution_count": 4,
     "metadata": {},
     "output_type": "execute_result"
    }
   ],
   "source": [
    "def add_prefix(x):\n",
    "    # takes lists: splits, pads with zeros, and adds GCDE prefix, then joins\n",
    "    # takes strings: pads with zeros, and adds GCDE prefix\n",
    "    if isinstance(x, list):\n",
    "        return \",\".join([\"GCDE:\"+i.astype(str).str.zfill(7) for i in x])\n",
    "    return \"GCDE:\"+x.astype(str).str.zfill(7)\n",
    "add_prefix(pd.Series([1,2,3]))"
   ]
  },
  {
   "cell_type": "code",
   "execution_count": 81,
   "metadata": {},
   "outputs": [
    {
     "name": "stdout",
     "output_type": "stream",
     "text": [
      "{GCDE:0000001,GCDE:0000032,GCDE:0000003}\n"
     ]
    },
    {
     "data": {
      "text/plain": [
       "'GCDE:0000001'"
      ]
     },
     "execution_count": 81,
     "metadata": {},
     "output_type": "execute_result"
    }
   ],
   "source": [
    "def add_prefix(x):\n",
    "    # takes lists: splits, pads with zeros, and adds GCDE prefix, then joins\n",
    "    # takes strings: pads with zeros, and adds GCDE prefix\n",
    "    if isinstance(x, (str, list)):\n",
    "        #print(\"recogized as list\")  6000\n",
    "        y = \"\"\n",
    "        #print(type(x), str(*x).split(\",\"), \"note3\")\n",
    "        for i in str(*x).split(\", \"):\n",
    "            y = y+\",\"+(\"GCDE:\"+i.zfill(7))\n",
    "#            print(type(i), y, \"Note2\")\n",
    "        return \"{\"+y[1:]+\"}\"\n",
    "#        print(\",\".join([\"GCDE:\"+i.zfill(7) for i in x]))\n",
    "#        return \"{\"+\",\".join([\"GCDE:\"+i.zfill(7) for i in x])+ \"}\"\n",
    "    return \"GCDE:\"+str(x).zfill(7)\n",
    "print(add_prefix([\"1, 32, 3\"]))\n",
    "add_prefix(1)"
   ]
  },
  {
   "cell_type": "code",
   "execution_count": 84,
   "metadata": {},
   "outputs": [
    {
     "name": "stdout",
     "output_type": "stream",
     "text": [
      "1623\n"
     ]
    }
   ],
   "source": [
    "# Update parent class to include GCDE prefix\n",
    "# Split with GCDE prefixes\n",
    "\n",
    "connections = []\n",
    "for i in data['Connections - Entity From']:\n",
    "    if isinstance(i, float):\n",
    "        connections += [i]\n",
    "    else:\n",
    "        #print(type(i), i, \"note1\")\n",
    "        connections += [add_prefix([i])]\n",
    "    \n",
    "print(len(connections))\n",
    "data['Connections - Entity From'] = connections\n",
    "#[\"GCDE:\"+x.astype(str).str.zfill(7) for x in data['Connections - Entity From'].str.split(',') if isinstance(x, list)]"
   ]
  },
  {
   "cell_type": "code",
   "execution_count": 85,
   "metadata": {},
   "outputs": [],
   "source": [
    "data_view = data[['ID', 'Label', 'Connections - Entity From', 'Entity Short Form', 'Tags', 'Type', 'SubType', 'Description', 'OrgClass', 'OrgSubType', 'Portfolio', 'URL', 'Source of Entry', 'Admin Notes', 'Data Provider', 'Record Status', 'Last Modified By', 'Created', 'French Entity Full Name', 'French Short Form', 'French Description', 'French URL']]\n",
    "data_view = data_view.rename(columns={\"Label\": \"defined_class_label\",\n",
    "                          \"ID\":\"defined_class\",\n",
    "                          \"Connections - Entity From\": \"parent_class\",\n",
    "                          \"Description\": \"definition\",\n",
    "                          \"URL\": \"definition_source\"})\n",
    "#df.rename(columns={\"A\": \"a\", \"B\": \"c\"})\n"
   ]
  },
  {
   "cell_type": "code",
   "execution_count": 86,
   "metadata": {},
   "outputs": [],
   "source": [
    "data_view.to_csv('/home/agar2/Documents/1Projects/6Projects/GCDE_ontology/gcde_ontology/src/patterns/data/airtable_full.tsv', sep= \"\\t\", index=False)\n"
   ]
  },
  {
   "cell_type": "markdown",
   "metadata": {},
   "source": [
    "Label ->            defined_class_label\n",
    "ID ->               defined_class\n",
    "Connections - Entity From -> parent_class\n",
    "Entity Short Form\t\n",
    "Tags\t            \n",
    "Type\t            \n",
    "SubType\t\n",
    "Description\t->      definition\n",
    "OrgClass\t\n",
    "OrgSubType\t\n",
    "Portfolio\t\n",
    "URL ->              definition_source\n",
    "Source of Entry\t\n",
    "Admin Notes\t\n",
    "Data Provider\t\n",
    "Record Status\t\n",
    "Last Modified By\t\n",
    "Created\t\n",
    "French Entity Full Name\t\n",
    "French Short Form\t\n",
    "French Description\t\n",
    "French URL\n"
   ]
  }
 ],
 "metadata": {
  "kernelspec": {
   "display_name": "base",
   "language": "python",
   "name": "python3"
  },
  "language_info": {
   "codemirror_mode": {
    "name": "ipython",
    "version": 3
   },
   "file_extension": ".py",
   "mimetype": "text/x-python",
   "name": "python",
   "nbconvert_exporter": "python",
   "pygments_lexer": "ipython3",
   "version": "3.9.16"
  },
  "orig_nbformat": 4
 },
 "nbformat": 4,
 "nbformat_minor": 2
}
